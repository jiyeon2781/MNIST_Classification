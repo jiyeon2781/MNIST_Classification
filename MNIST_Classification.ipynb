{
  "nbformat": 4,
  "nbformat_minor": 0,
  "metadata": {
    "colab": {
      "name": "MNIST_Classification.ipynb",
      "provenance": []
    },
    "kernelspec": {
      "name": "python3",
      "display_name": "Python 3"
    },
    "language_info": {
      "name": "python"
    },
    "accelerator": "GPU"
  },
  "cells": [
    {
      "cell_type": "markdown",
      "metadata": {
        "id": "ls28J2C8SqY_"
      },
      "source": [
        "**필요한 Package Import**\n",
        "\n",
        "---\n",
        "\n",
        "학습에 필요한 패키지를 선언해줍니다.\n"
      ]
    },
    {
      "cell_type": "code",
      "metadata": {
        "id": "IJ7eCyfbSpb4"
      },
      "source": [
        "import tensorflow as tf\n",
        "import matplotlib.pyplot as plt\n",
        "import numpy\n",
        "import os\n",
        "from keras.datasets import mnist\n",
        "from keras.utils import np_utils\n",
        "from keras.models import Sequential\n",
        "from keras.layers import Dense, Dropout, Flatten, Conv2D, MaxPooling2D, BatchNormalization,Activation\n",
        "from keras.callbacks import ModelCheckpoint,EarlyStopping\n"
      ],
      "execution_count": 1,
      "outputs": []
    },
    {
      "cell_type": "markdown",
      "metadata": {
        "id": "uKXz-ZR6TUyd"
      },
      "source": [
        "**Set Seed**\n",
        "\n",
        "---\n",
        "seed 값을 정해줍니다. \n"
      ]
    },
    {
      "cell_type": "code",
      "metadata": {
        "id": "UHV2eE4bSw4k"
      },
      "source": [
        "seed = 222\n",
        "numpy.random.seed(seed)\n",
        "tf.random.set_seed(seed)"
      ],
      "execution_count": 2,
      "outputs": []
    },
    {
      "cell_type": "markdown",
      "metadata": {
        "id": "Ml3hhkSCTlgd"
      },
      "source": [
        "**MNIST Data Load**\n",
        "\n",
        "\n",
        "---\n",
        "MNIST 데이터를 load하여 reshape와 카테고리화를 진행합니다. \n"
      ]
    },
    {
      "cell_type": "code",
      "metadata": {
        "colab": {
          "base_uri": "https://localhost:8080/"
        },
        "id": "tvXU-elqTi04",
        "outputId": "bf77db72-b0b6-4978-e2fe-f0eaea849022"
      },
      "source": [
        "(X_train, Y_train), (X_test, Y_test) = mnist.load_data()\n",
        "X_train = X_train.reshape(X_train.shape[0], 28, 28, 1).astype('float32') / 255\n",
        "X_test = X_test.reshape(X_test.shape[0], 28, 28, 1).astype('float32') / 255\n",
        "Y_train = np_utils.to_categorical(Y_train)\n",
        "Y_test = np_utils.to_categorical(Y_test)"
      ],
      "execution_count": 3,
      "outputs": [
        {
          "output_type": "stream",
          "text": [
            "Downloading data from https://storage.googleapis.com/tensorflow/tf-keras-datasets/mnist.npz\n",
            "11493376/11490434 [==============================] - 0s 0us/step\n"
          ],
          "name": "stdout"
        }
      ]
    },
    {
      "cell_type": "markdown",
      "metadata": {
        "id": "DDVf1ZB6UCVk"
      },
      "source": [
        "**Model Architacture**\n",
        "\n",
        "\n",
        "---\n",
        "모델의 구조를 정의해줍니다.\n"
      ]
    },
    {
      "cell_type": "code",
      "metadata": {
        "id": "e9ht52UIUCFR"
      },
      "source": [
        "model = Sequential()\n",
        "model.add(Conv2D(32, kernel_size=(3, 3), input_shape=(28, 28, 1), activation='relu'))\n",
        "model.add(Conv2D(64, (3, 3), activation='relu'))\n",
        "model.add(MaxPooling2D(pool_size=2))\n",
        "model.add(Dropout(0.5))\n",
        "model.add(Conv2D(32, (3, 3), activation='relu'))\n",
        "model.add(MaxPooling2D(pool_size=2))\n",
        "model.add(Dropout(0.25))\n",
        "model.add(BatchNormalization())\n",
        "model.add(Flatten())\n",
        "model.add(Dense(128, activation='relu'))\n",
        "model.add(Dropout(0.5))\n",
        "model.add(Activation('relu'))\n",
        "model.add(Dense(10, activation='softmax'))\n",
        "model.compile(loss='categorical_crossentropy',\n",
        " optimizer='adam', metrics=['accuracy'])"
      ],
      "execution_count": 4,
      "outputs": []
    },
    {
      "cell_type": "markdown",
      "metadata": {
        "id": "1KBwEiYUUaPc"
      },
      "source": [
        "**Training**\n",
        "\n",
        "\n",
        "---\n",
        "\n",
        "학습을 진행합니다. 여기서 모델은 저장해주되, Loss가 떨어지지 않으면 EarlyStopping하게 됩니다. "
      ]
    },
    {
      "cell_type": "code",
      "metadata": {
        "colab": {
          "base_uri": "https://localhost:8080/"
        },
        "id": "Epdyhv9xUYki",
        "outputId": "eaced30f-ac62-422e-ff23-4946fe988a34"
      },
      "source": [
        "MODEL_DIR = './model/'\n",
        "if not os.path.exists(MODEL_DIR):\n",
        "    os.mkdir(MODEL_DIR)\n",
        "modelpath=\"./model/{epoch:02d}-{val_loss:.4f}.hdf5\"\n",
        "checkpointer = ModelCheckpoint(filepath=modelpath, monitor='val_loss', verbose=1,\n",
        "save_best_only=True)\n",
        "early_stopping_callback = EarlyStopping(monitor='val_loss', patience=10)\n",
        "\n",
        "\n",
        "history = model.fit(X_train, Y_train, validation_data=(X_test, Y_test), epochs=30,\n",
        "batch_size=200, verbose=0, callbacks=[early_stopping_callback,checkpointer])\n",
        "\n",
        "print(\"\\n Test Accuracy: %.4f\" % (model.evaluate(X_test, Y_test)[1]))"
      ],
      "execution_count": 5,
      "outputs": [
        {
          "output_type": "stream",
          "text": [
            "\n",
            "Epoch 00001: val_loss improved from inf to 0.28620, saving model to ./model/01-0.2862.hdf5\n",
            "\n",
            "Epoch 00002: val_loss improved from 0.28620 to 0.04591, saving model to ./model/02-0.0459.hdf5\n",
            "\n",
            "Epoch 00003: val_loss improved from 0.04591 to 0.03032, saving model to ./model/03-0.0303.hdf5\n",
            "\n",
            "Epoch 00004: val_loss improved from 0.03032 to 0.03025, saving model to ./model/04-0.0303.hdf5\n",
            "\n",
            "Epoch 00005: val_loss improved from 0.03025 to 0.03017, saving model to ./model/05-0.0302.hdf5\n",
            "\n",
            "Epoch 00006: val_loss improved from 0.03017 to 0.02601, saving model to ./model/06-0.0260.hdf5\n",
            "\n",
            "Epoch 00007: val_loss did not improve from 0.02601\n",
            "\n",
            "Epoch 00008: val_loss improved from 0.02601 to 0.02434, saving model to ./model/08-0.0243.hdf5\n",
            "\n",
            "Epoch 00009: val_loss did not improve from 0.02434\n",
            "\n",
            "Epoch 00010: val_loss did not improve from 0.02434\n",
            "\n",
            "Epoch 00011: val_loss improved from 0.02434 to 0.02263, saving model to ./model/11-0.0226.hdf5\n",
            "\n",
            "Epoch 00012: val_loss did not improve from 0.02263\n",
            "\n",
            "Epoch 00013: val_loss did not improve from 0.02263\n",
            "\n",
            "Epoch 00014: val_loss improved from 0.02263 to 0.01983, saving model to ./model/14-0.0198.hdf5\n",
            "\n",
            "Epoch 00015: val_loss did not improve from 0.01983\n",
            "\n",
            "Epoch 00016: val_loss did not improve from 0.01983\n",
            "\n",
            "Epoch 00017: val_loss improved from 0.01983 to 0.01747, saving model to ./model/17-0.0175.hdf5\n",
            "\n",
            "Epoch 00018: val_loss did not improve from 0.01747\n",
            "\n",
            "Epoch 00019: val_loss improved from 0.01747 to 0.01677, saving model to ./model/19-0.0168.hdf5\n",
            "\n",
            "Epoch 00020: val_loss did not improve from 0.01677\n",
            "\n",
            "Epoch 00021: val_loss did not improve from 0.01677\n",
            "\n",
            "Epoch 00022: val_loss did not improve from 0.01677\n",
            "\n",
            "Epoch 00023: val_loss did not improve from 0.01677\n",
            "\n",
            "Epoch 00024: val_loss improved from 0.01677 to 0.01561, saving model to ./model/24-0.0156.hdf5\n",
            "\n",
            "Epoch 00025: val_loss did not improve from 0.01561\n",
            "\n",
            "Epoch 00026: val_loss did not improve from 0.01561\n",
            "\n",
            "Epoch 00027: val_loss did not improve from 0.01561\n",
            "\n",
            "Epoch 00028: val_loss did not improve from 0.01561\n",
            "\n",
            "Epoch 00029: val_loss did not improve from 0.01561\n",
            "\n",
            "Epoch 00030: val_loss did not improve from 0.01561\n",
            "313/313 [==============================] - 2s 4ms/step - loss: 0.0169 - accuracy: 0.9948\n",
            "\n",
            " Test Accuracy: 0.9948\n"
          ],
          "name": "stdout"
        }
      ]
    },
    {
      "cell_type": "markdown",
      "metadata": {
        "id": "7y5nTf9pU6cw"
      },
      "source": [
        "**Graph Create**\n",
        "\n",
        "\n",
        "---\n",
        "\n",
        "실험 결과에 따른 그래프를 작성합니다. \n",
        "\n"
      ]
    },
    {
      "cell_type": "code",
      "metadata": {
        "colab": {
          "base_uri": "https://localhost:8080/",
          "height": 279
        },
        "id": "2oxAucQnU3jS",
        "outputId": "30cbe69e-eb12-4075-9132-d07676ec1559"
      },
      "source": [
        "y_loss = history.history['loss']\n",
        "y_vloss = history.history['val_loss']\n",
        "\n",
        "x_len = numpy.arange(len(y_loss))\n",
        "plt.plot(x_len, y_vloss, marker='.', c=\"red\", label='Testset_loss')\n",
        "plt.plot(x_len, y_loss, marker='.', c=\"blue\", label='Trainset_loss')\n",
        "\n",
        "plt.legend(loc='upper right')\n",
        "plt.grid()\n",
        "plt.xlabel('epoch')\n",
        "plt.ylabel('loss')\n",
        "plt.show()"
      ],
      "execution_count": 6,
      "outputs": [
        {
          "output_type": "display_data",
          "data": {
            "image/png": "[encoded data removed]",
            "text/plain": [
              "<Figure size 432x288 with 1 Axes>"
            ]
          },
          "metadata": {
            "tags": [],
            "needs_background": "light"
          }
        }
      ]
    }
  ]
}